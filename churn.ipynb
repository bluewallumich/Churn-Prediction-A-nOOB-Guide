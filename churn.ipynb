{
  "nbformat": 4,
  "nbformat_minor": 0,
  "metadata": {
    "colab": {
      "provenance": [],
      "authorship_tag": "ABX9TyN+gHA9vBexXgPZNcK05bbj",
      "include_colab_link": true
    },
    "kernelspec": {
      "name": "python3",
      "display_name": "Python 3"
    },
    "language_info": {
      "name": "python"
    }
  },
  "cells": [
    {
      "cell_type": "markdown",
      "metadata": {
        "id": "view-in-github",
        "colab_type": "text"
      },
      "source": [
        "<a href=\"https://colab.research.google.com/github/bluewallumich/Churn-Prediction-A-nOOB-Guide/blob/main/churn.ipynb\" target=\"_parent\"><img src=\"https://colab.research.google.com/assets/colab-badge.svg\" alt=\"Open In Colab\"/></a>"
      ]
    },
    {
      "cell_type": "markdown",
      "source": [
        "# A nOOBs Guide To Churn\n",
        "\n",
        "---"
      ],
      "metadata": {
        "id": "IK4va40KLZXW"
      }
    },
    {
      "cell_type": "markdown",
      "source": [
        "Churn, churn rate, customer churn, or rate of attrition is the rate at which consumers or employees an organization during any given period.\n",
        "\n",
        "There are two ways to calculate churn:\n",
        "$$...$$\n",
        "\n",
        "\n",
        "$\n",
        "Customer Churn Rate =\n",
        "\\frac{(Customers Beginning of Month - Customers End Of Month)}{Customers Beginning Of Month}\n",
        "$\n",
        "\n",
        "$$...$$\n",
        "$$OR$$\n",
        "$$...$$\n",
        "\n",
        "$\n",
        "Customer Churn Rate = (\\frac{Lost Customers}{Total Customers At Beginning Of Month})*100\n",
        "$\n",
        "\n",
        "\n",
        "\n"
      ],
      "metadata": {
        "id": "UYEm_8TVL6cZ"
      }
    }
  ]
}